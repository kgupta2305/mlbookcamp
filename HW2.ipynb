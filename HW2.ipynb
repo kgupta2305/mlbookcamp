{
 "cells": [
  {
   "cell_type": "code",
   "execution_count": 85,
   "id": "31b5c425",
   "metadata": {},
   "outputs": [],
   "source": [
    "import numpy as np\n",
    "import pandas as pd\n",
    "import matplotlib.pyplot as plt\n",
    "import seaborn as sns\n",
    "%matplotlib inline"
   ]
  },
  {
   "cell_type": "code",
   "execution_count": 86,
   "id": "0c3b9504",
   "metadata": {},
   "outputs": [],
   "source": [
    "df = pd.read_csv(\"AB_NYC_2019.csv\")"
   ]
  },
  {
   "cell_type": "code",
   "execution_count": 87,
   "id": "09147914",
   "metadata": {},
   "outputs": [
    {
     "data": {
      "text/plain": [
       "<AxesSubplot:xlabel='price', ylabel='Count'>"
      ]
     },
     "execution_count": 87,
     "metadata": {},
     "output_type": "execute_result"
    },
    {
     "data": {
      "image/png": "[encoded data removed]",
      "text/plain": [
       "<Figure size 432x288 with 1 Axes>"
      ]
     },
     "metadata": {
      "needs_background": "light"
     },
     "output_type": "display_data"
    }
   ],
   "source": [
    "sns.histplot(df['price'],bins=100)\n",
    "# We see that it is long tail"
   ]
  },
  {
   "cell_type": "code",
   "execution_count": 88,
   "id": "fa171a5c",
   "metadata": {},
   "outputs": [],
   "source": [
    "df_hw = df[['latitude','longitude','price','minimum_nights','number_of_reviews','reviews_per_month','calculated_host_listings_count','availability_365']]"
   ]
  },
  {
   "cell_type": "code",
   "execution_count": 89,
   "id": "72538615",
   "metadata": {},
   "outputs": [
    {
     "data": {
      "text/plain": [
       "latitude                              0\n",
       "longitude                             0\n",
       "price                                 0\n",
       "minimum_nights                        0\n",
       "number_of_reviews                     0\n",
       "reviews_per_month                 10052\n",
       "calculated_host_listings_count        0\n",
       "availability_365                      0\n",
       "dtype: int64"
      ]
     },
     "execution_count": 89,
     "metadata": {},
     "output_type": "execute_result"
    }
   ],
   "source": [
    "#Q1\n",
    "df_hw.isnull().sum()\n",
    "# reviews_per_month has missing values and there are 10052 of them"
   ]
  },
  {
   "cell_type": "code",
   "execution_count": 90,
   "id": "527832a7",
   "metadata": {},
   "outputs": [
    {
     "data": {
      "text/plain": [
       "3.0"
      ]
     },
     "execution_count": 90,
     "metadata": {},
     "output_type": "execute_result"
    }
   ],
   "source": [
    "#Q2\n",
    "df_hw['minimum_nights'].median()\n",
    "#Median is 3.0"
   ]
  },
  {
   "cell_type": "code",
   "execution_count": 91,
   "id": "365fc258",
   "metadata": {},
   "outputs": [],
   "source": [
    "n = len(df_hw)\n",
    "df_id = np.arange(len(df_hw))\n",
    "np.random.seed(42)\n",
    "np.random.shuffle(df_id)"
   ]
  },
  {
   "cell_type": "code",
   "execution_count": 92,
   "id": "6ab02999",
   "metadata": {},
   "outputs": [],
   "source": [
    "n_val = int(n*0.2)\n",
    "n_test = int(n*0.2)\n",
    "n_train = n-n_val-n_test"
   ]
  },
  {
   "cell_type": "code",
   "execution_count": 93,
   "id": "3d014e5b",
   "metadata": {},
   "outputs": [],
   "source": [
    "df_train = df_hw.iloc[df_id[:n_train]]\n",
    "df_val = df_hw.iloc[df_id[n_train:n_train+n_val]]\n",
    "df_test = df_hw.iloc[df_id[n_train+n_val:]]"
   ]
  },
  {
   "cell_type": "code",
   "execution_count": 94,
   "id": "ad010247",
   "metadata": {},
   "outputs": [],
   "source": [
    "df_train =df_train.reset_index(drop=True)\n",
    "df_val =df_val.reset_index(drop=True)\n",
    "df_test =df_test.reset_index(drop=True)"
   ]
  },
  {
   "cell_type": "code",
   "execution_count": 95,
   "id": "c84df3ff",
   "metadata": {},
   "outputs": [],
   "source": [
    "y_train = np.log1p(df_train.price.values)\n",
    "y_test = np.log1p(df_test.price.values)\n",
    "y_val = np.log1p(df_val.price.values)\n",
    "del df_train['price']\n",
    "del df_val['price']\n",
    "del df_test['price']"
   ]
  },
  {
   "cell_type": "code",
   "execution_count": 96,
   "id": "b73ac010",
   "metadata": {},
   "outputs": [],
   "source": [
    "df_train_mean = df_train\n",
    "df_train_zero = df_train\n",
    "df_val_mean = df_val\n",
    "df_val_zero = df_val\n",
    "df_test_mean = df_test\n",
    "df_test_zero = df_test\n",
    "df_train_mean['reviews_per_month'] = df_train_mean['reviews_per_month'].fillna((df_train_mean['reviews_per_month'].mean()))\n",
    "df_val_mean['reviews_per_month'] = df_val_mean['reviews_per_month'].fillna((df_train_mean['reviews_per_month'].mean()))\n",
    "df_test_mean['reviews_per_month'] = df_test_mean['reviews_per_month'].fillna((df_train_mean['reviews_per_month'].mean()))\n",
    "df_train_zero['reviews_per_month'] = df_train_zero['reviews_per_month'].fillna(0)\n",
    "df_test_zero['reviews_per_month'] = df_test_zero['reviews_per_month'].fillna(0)\n",
    "df_val_zero['reviews_per_month'] = df_val_zero['reviews_per_month'].fillna(0)"
   ]
  },
  {
   "cell_type": "code",
   "execution_count": 97,
   "id": "704b022f",
   "metadata": {},
   "outputs": [],
   "source": [
    "X_mean_train = df_train_mean.values"
   ]
  },
  {
   "cell_type": "code",
   "execution_count": 98,
   "id": "cbf3904b",
   "metadata": {},
   "outputs": [],
   "source": [
    "def train_linear_regression(X, y):\n",
    "    ones = np.ones(X.shape[0])\n",
    "    X = np.column_stack([ones, X])\n",
    "\n",
    "    XTX = X.T.dot(X)\n",
    "    XTX_inv = np.linalg.inv(XTX)\n",
    "    w_full = XTX_inv.dot(X.T).dot(y)\n",
    "    \n",
    "    return w_full[0], w_full[1:]"
   ]
  },
  {
   "cell_type": "code",
   "execution_count": 99,
   "id": "17c3f1af",
   "metadata": {},
   "outputs": [],
   "source": [
    "w0, w = train_linear_regression(X_mean_train, y_train)\n",
    "y_pred = w0 + X_mean_train.dot(w)"
   ]
  },
  {
   "cell_type": "code",
   "execution_count": 100,
   "id": "ab7194b3",
   "metadata": {},
   "outputs": [],
   "source": [
    "def rmse(y, y_pred):\n",
    "    se = (y - y_pred) ** 2\n",
    "    mse = se.mean()\n",
    "    return np.sqrt(mse)"
   ]
  },
  {
   "cell_type": "code",
   "execution_count": 101,
   "id": "339f0d4f",
   "metadata": {},
   "outputs": [
    {
     "data": {
      "text/plain": [
       "0.64"
      ]
     },
     "execution_count": 101,
     "metadata": {},
     "output_type": "execute_result"
    }
   ],
   "source": [
    "round(rmse(y_train, y_pred),2)"
   ]
  },
  {
   "cell_type": "code",
   "execution_count": 102,
   "id": "063eb14e",
   "metadata": {},
   "outputs": [
    {
     "data": {
      "text/plain": [
       "0.64"
      ]
     },
     "execution_count": 102,
     "metadata": {},
     "output_type": "execute_result"
    }
   ],
   "source": [
    "#Q 3 \n",
    "X_zero_train = df_train_zero.values\n",
    "w0, w = train_linear_regression(X_zero_train, y_train)\n",
    "y_pred = w0 + X_zero_train.dot(w)\n",
    "round(rmse(y_train, y_pred),2)\n",
    "# Both give same results"
   ]
  },
  {
   "cell_type": "code",
   "execution_count": 103,
   "id": "395de7c7",
   "metadata": {},
   "outputs": [],
   "source": [
    "def train_linear_regression_reg(X, y, r=0.001):\n",
    "    ones = np.ones(X.shape[0])\n",
    "    X = np.column_stack([ones, X])\n",
    "\n",
    "    XTX = X.T.dot(X)\n",
    "    XTX = XTX + r * np.eye(XTX.shape[0])\n",
    "\n",
    "    XTX_inv = np.linalg.inv(XTX)\n",
    "    w_full = XTX_inv.dot(X.T).dot(y)\n",
    "    \n",
    "    return w_full[0], w_full[1:]"
   ]
  },
  {
   "cell_type": "code",
   "execution_count": 105,
   "id": "628eb9cf",
   "metadata": {},
   "outputs": [],
   "source": [
    "r = [0, 0.000001, 0.0001, 0.001, 0.01, 0.1, 1, 5, 10]\n",
    "length = len(r)"
   ]
  },
  {
   "cell_type": "code",
   "execution_count": 107,
   "id": "4a8e7355",
   "metadata": {},
   "outputs": [
    {
     "name": "stdout",
     "output_type": "stream",
     "text": [
      "0.0 0.64\n",
      "1e-06 0.64\n",
      "0.0001 0.64\n",
      "0.001 0.64\n",
      "0.01 0.66\n",
      "0.1 0.68\n",
      "1.0 0.68\n",
      "5.0 0.68\n",
      "10.0 0.68\n"
     ]
    }
   ],
   "source": [
    "# Q4 \n",
    "for val in range(length):\n",
    "    w0, w = train_linear_regression_reg(X_zero_train, y_train, r[val])\n",
    "    X_val_train = df_val_zero.values\n",
    "    #X_val = prepare_X(df_val)\n",
    "    y_pred = w0 + X_val_train.dot(w)\n",
    "    print (float(r[val]),round(rmse(y_val, y_pred),2))\n",
    "# As RMSE is 0.64 we choose r=0"
   ]
  },
  {
   "cell_type": "code",
   "execution_count": 108,
   "id": "0641ca3c",
   "metadata": {},
   "outputs": [
    {
     "name": "stdout",
     "output_type": "stream",
     "text": [
      "0.005\n"
     ]
    }
   ],
   "source": [
    "#Q5\n",
    "new_seed = [0, 1, 2, 3, 4, 5, 6, 7, 8, 9]\n",
    "length_seed = len(new_seed)\n",
    "rms =[]\n",
    "df_id = np.arange(len(df_hw))\n",
    "for val in range (length_seed):\n",
    "    np.random.seed(new_seed[val])\n",
    "    np.random.shuffle(df_id)\n",
    "    df_train = df_hw.iloc[df_id[:n_train]]\n",
    "    df_val = df_hw.iloc[df_id[n_train:n_train+n_val]]\n",
    "    df_test = df_hw.iloc[df_id[n_train+n_val:]]\n",
    "    df_train =df_train.reset_index(drop=True)\n",
    "    df_val =df_val.reset_index(drop=True)\n",
    "    df_test =df_test.reset_index(drop=True)\n",
    "    y_train = np.log1p(df_train.price.values)\n",
    "    y_test = np.log1p(df_test.price.values)\n",
    "    y_val = np.log1p(df_val.price.values)\n",
    "    del df_train['price']\n",
    "    del df_val['price']\n",
    "    del df_test['price']\n",
    "    df_train_zero = df_train\n",
    "    df_val_zero = df_val\n",
    "    df_test_zero = df_test\n",
    "    df_train_zero['reviews_per_month'] = df_train_zero['reviews_per_month'].fillna(0)\n",
    "    df_test_zero['reviews_per_month'] = df_test_zero['reviews_per_month'].fillna(0)\n",
    "    df_val_zero['reviews_per_month'] = df_val_zero['reviews_per_month'].fillna(0)\n",
    "    X_zero_train = df_train_zero.values\n",
    "    w0, w = train_linear_regression(X_zero_train, y_train)\n",
    "    y_pred = w0 + X_zero_train.dot(w)\n",
    "    rms.append(round(rmse(y_train, y_pred),2))\n",
    "#print(rms)\n",
    "sd = np.std(rms)\n",
    "print(round(sd, 3))\n",
    "# Standard Deviation is 0.005"
   ]
  },
  {
   "cell_type": "code",
   "execution_count": 109,
   "id": "5f25ad3b",
   "metadata": {},
   "outputs": [
    {
     "name": "stdout",
     "output_type": "stream",
     "text": [
      "0.65\n"
     ]
    }
   ],
   "source": [
    "# Q6 \n",
    "df_id = np.arange(len(df_hw))\n",
    "np.random.seed(9)\n",
    "np.random.shuffle(df_id)\n",
    "df_train = df_hw.iloc[df_id[:n_train+n_val]]\n",
    "df_test = df_hw.iloc[df_id[n_train+n_val:]]\n",
    "df_train =df_train.reset_index(drop=True)\n",
    "df_test =df_test.reset_index(drop=True)\n",
    "y_train = np.log1p(df_train.price.values)\n",
    "y_test = np.log1p(df_test.price.values)\n",
    "del df_train['price']\n",
    "del df_test['price']\n",
    "df_train_zero = df_train\n",
    "df_test_zero = df_test\n",
    "df_train_zero['reviews_per_month'] = df_train_zero['reviews_per_month'].fillna(0)\n",
    "df_test_zero['reviews_per_month'] = df_test_zero['reviews_per_month'].fillna(0)\n",
    "X_zero_train = df_train_zero.values\n",
    "w0, w = train_linear_regression_reg(X_zero_train, y_train, r=0.001)\n",
    "y_pred = w0 + X_zero_train.dot(w)\n",
    "print(round(rmse(y_train, y_pred),2))\n",
    "# RMSE is 0.65"
   ]
  },
  {
   "cell_type": "code",
   "execution_count": null,
   "id": "f703549f",
   "metadata": {},
   "outputs": [],
   "source": []
  }
 ],
 "metadata": {
  "kernelspec": {
   "display_name": "Python 3 (ipykernel)",
   "language": "python",
   "name": "python3"
  },
  "language_info": {
   "codemirror_mode": {
    "name": "ipython",
    "version": 3
   },
   "file_extension": ".py",
   "mimetype": "text/x-python",
   "name": "python",
   "nbconvert_exporter": "python",
   "pygments_lexer": "ipython3",
   "version": "3.7.11"
  }
 },
 "nbformat": 4,
 "nbformat_minor": 5
}
