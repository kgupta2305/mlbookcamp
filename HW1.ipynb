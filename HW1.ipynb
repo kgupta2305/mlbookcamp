{
 "cells": [
  {
   "cell_type": "code",
   "execution_count": null,
   "id": "cfa89b15",
   "metadata": {},
   "outputs": [],
   "source": [
    "import numpy as np\n",
    "import pandas as pd"
   ]
  },
  {
   "cell_type": "code",
   "execution_count": null,
   "id": "90212e83",
   "metadata": {},
   "outputs": [],
   "source": [
    "print(np.__version__)\n",
    "print(pd.__version__)"
   ]
  },
  {
   "cell_type": "code",
   "execution_count": null,
   "id": "fbbd5809",
   "metadata": {},
   "outputs": [],
   "source": [
    "url_data = \"https://raw.githubusercontent.com/alexeygrigorev/mlbookcamp-code/master/chapter-02-car-price/data.csv\"\n",
    "df = pd.read_csv(url_data)"
   ]
  },
  {
   "cell_type": "code",
   "execution_count": null,
   "id": "3e91cb0f",
   "metadata": {},
   "outputs": [],
   "source": [
    "df_bmw = df[df['Make']== 'BMW']\n",
    "df_bmw['MSRP'].mean()"
   ]
  },
  {
   "cell_type": "code",
   "execution_count": null,
   "id": "5afd6b99",
   "metadata": {},
   "outputs": [],
   "source": [
    "df_new = df[df['Year']>=2015]\n",
    "df_null = df_new[df_new['Engine HP'].isnull()]\n",
    "df_null.describe()"
   ]
  },
  {
   "cell_type": "code",
   "execution_count": null,
   "id": "f5262c21",
   "metadata": {},
   "outputs": [],
   "source": [
    "df_q5= df\n",
    "mean_hp_before = df_q5['Engine HP'].mean()\n",
    "mean_hp_before"
   ]
  },
  {
   "cell_type": "code",
   "execution_count": null,
   "id": "346d46a0",
   "metadata": {},
   "outputs": [],
   "source": [
    "df_q5['Engine HP'] = df_q5['Engine HP'].fillna((df_q5['Engine HP'].mean()))\n",
    "mean_hp_after = df_q5['Engine HP'].mean()\n",
    "mean_hp_after"
   ]
  },
  {
   "cell_type": "code",
   "execution_count": null,
   "id": "59b4feeb",
   "metadata": {},
   "outputs": [],
   "source": [
    "print(round(mean_hp_before))\n",
    "print(round(mean_hp_after))"
   ]
  },
  {
   "cell_type": "code",
   "execution_count": null,
   "id": "f529062f",
   "metadata": {},
   "outputs": [],
   "source": [
    "df_rolls = df[df['Make']== 'Rolls-Royce']\n",
    "df_rolls_filtered = df_rolls[['Engine HP', 'Engine Cylinders', 'highway MPG']]\n",
    "df_rolls_filtered = df_rolls_filtered.drop_duplicates()\n",
    "X = df_rolls_filtered.to_numpy()\n",
    "XT = X.T\n",
    "XTX = np.matmul(XT, X)"
   ]
  },
  {
   "cell_type": "code",
   "execution_count": null,
   "id": "e7cea581",
   "metadata": {},
   "outputs": [],
   "source": [
    "from numpy.linalg import inv\n",
    "inverted_XTX = inv(XTX)"
   ]
  },
  {
   "cell_type": "code",
   "execution_count": null,
   "id": "530cea80",
   "metadata": {},
   "outputs": [],
   "source": [
    "sum_arr = np.sum(inverted_XTX)\n",
    "sum_arr"
   ]
  }
 ],
 "metadata": {
  "kernelspec": {
   "display_name": "Python 3 (ipykernel)",
   "language": "python",
   "name": "python3"
  },
  "language_info": {
   "codemirror_mode": {
    "name": "ipython",
    "version": 3
   },
   "file_extension": ".py",
   "mimetype": "text/x-python",
   "name": "python",
   "nbconvert_exporter": "python",
   "pygments_lexer": "ipython3",
   "version": "3.7.11"
  }
 },
 "nbformat": 4,
 "nbformat_minor": 5
}
